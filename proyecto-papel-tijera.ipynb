{
 "cells": [
  {
   "cell_type": "code",
   "execution_count": 34,
   "metadata": {},
   "outputs": [],
   "source": [
    "# definir opciones del juego\n",
    "\n",
    "import random\n",
    "\n",
    "opciones = ['piedra', 'papel', 'tijera']\n",
    "\n",
    "puntos_objetivo = 3\n",
    "\n",
    "def eleccion_jugador():\n",
    "    eleccion = input(\"elige: piedra, papel o tijera\")\n",
    "    while eleccion not in opciones:\n",
    "        print(\"opcion no valida, elige piedra, papel o tijera\")\n",
    "        eleccion = input(\"elige: piedra, papel, tijera\")\n",
    "    return eleccion\n",
    "    \n"
   ]
  },
  {
   "cell_type": "code",
   "execution_count": 35,
   "metadata": {},
   "outputs": [
    {
     "data": {
      "text/plain": [
       "'papel'"
      ]
     },
     "execution_count": 35,
     "metadata": {},
     "output_type": "execute_result"
    }
   ],
   "source": [
    "eleccion_jugador()"
   ]
  },
  {
   "cell_type": "code",
   "execution_count": 36,
   "metadata": {},
   "outputs": [],
   "source": [
    "def eleccion_computadora():\n",
    "    eleccion = random.choice(opciones)\n",
    "    print(eleccion)"
   ]
  },
  {
   "cell_type": "code",
   "execution_count": 37,
   "metadata": {},
   "outputs": [
    {
     "name": "stdout",
     "output_type": "stream",
     "text": [
      "papel\n"
     ]
    }
   ],
   "source": [
    "eleccion_computadora()"
   ]
  },
  {
   "cell_type": "code",
   "execution_count": 38,
   "metadata": {},
   "outputs": [],
   "source": [
    "def determinar_ganador(eleccion_jugador, eleccion_computadora):\n",
    "    if eleccion_jugador == eleccion_computadora:\n",
    "        return \"Empate\"\n",
    "    elif (eleccion_jugador == 'papel' and eleccion_computadora == 'piedra') or (eleccion_jugador == 'piedra' and eleccion_computadora == 'papel') or (eleccion_jugador == 'tijera' and eleccion_computadora == 'piedra'):\n",
    "        return 'Gana Jugador'\n",
    "    else:\n",
    "        return 'Gana Computadora'\n"
   ]
  },
  {
   "cell_type": "code",
   "execution_count": 39,
   "metadata": {},
   "outputs": [
    {
     "data": {
      "text/plain": [
       "'Gana Computadora'"
      ]
     },
     "execution_count": 39,
     "metadata": {},
     "output_type": "execute_result"
    }
   ],
   "source": [
    "determinar_ganador(eleccion_jugador, eleccion_computadora)"
   ]
  },
  {
   "cell_type": "code",
   "execution_count": 40,
   "metadata": {},
   "outputs": [],
   "source": [
    "puntos_jugador = 0\n",
    "puntos_computadora = 0"
   ]
  },
  {
   "cell_type": "code",
   "execution_count": 43,
   "metadata": {},
   "outputs": [],
   "source": [
    "def suma_de_puntos(puntos_jugador, puntos_computadora):\n",
    "    if determinar_ganador == 'jugador':\n",
    "        puntos_jugador += 1\n",
    "        print('Ganaste esta ronda')\n",
    "    elif determinar_ganador == 'computadora':\n",
    "        puntos_computadora += 1\n",
    "        print('La computadora gana')\n",
    "    else:\n",
    "        print('Es un empate')\n",
    "\n"
   ]
  },
  {
   "cell_type": "code",
   "execution_count": 44,
   "metadata": {},
   "outputs": [
    {
     "name": "stdout",
     "output_type": "stream",
     "text": [
      "Es un empate\n"
     ]
    }
   ],
   "source": [
    "suma_de_puntos(puntos_jugador, puntos_computadora)"
   ]
  },
  {
   "cell_type": "markdown",
   "metadata": {},
   "source": [
    "Reglas del Juego \"Piedra, Papel y Tijera\":\n",
    "\n",
    "    - Dos jugadores eligen una de las tres opciones: \"Piedra\", \"Papel\" o \"Tijera\".\n",
    "\n",
    "    - Las reglas para determinar al ganador son:\n",
    "        \n",
    "        - Piedra vence a Tijera.\n",
    "\n",
    "        - Tijera vence a Papel.\n",
    "\n",
    "        - Papel vence a Piedra.\n",
    "\n",
    "        - El jugador que gana una ronda obtiene un punto.\n",
    "        \n",
    "        - El juego continúa hasta que un jugador haya acumulado 3 puntos, convirtiéndose en el ganador.\n",
    "\n",
    "\n",
    "- Pistas para las alumnas:\n",
    "\n",
    "    1. Comienza por definir el número de puntos objetivo que se deben alcanzar para ganar el juego.\n",
    "\n",
    "    2. Implementa una función que obtenga la elección del jugador y valide que sea una de las opciones válidas (\"Piedra\", \"Papel\" o \"Tijera\").\n",
    "\n",
    "    3. Utiliza un bucle `while` para llevar un registro de los puntos de cada jugador y continuar el juego hasta que se alcance el número de puntos objetivo.\n",
    "\n",
    "    4. Genera una elección aleatoria para el segundo jugador (la computadora) utilizando el módulo `random`.\n",
    "\n",
    "    5. Determina al ganador de cada ronda y actualiza los puntos correspondientes.\n",
    "\n",
    "    6. Verifica si algún jugador ha alcanzado el número de puntos objetivo y finalicen el juego cuando eso suceda."
   ]
  }
 ],
 "metadata": {
  "kernelspec": {
   "display_name": "base",
   "language": "python",
   "name": "python3"
  },
  "language_info": {
   "codemirror_mode": {
    "name": "ipython",
    "version": 3
   },
   "file_extension": ".py",
   "mimetype": "text/x-python",
   "name": "python",
   "nbconvert_exporter": "python",
   "pygments_lexer": "ipython3",
   "version": "3.12.7"
  }
 },
 "nbformat": 4,
 "nbformat_minor": 2
}
